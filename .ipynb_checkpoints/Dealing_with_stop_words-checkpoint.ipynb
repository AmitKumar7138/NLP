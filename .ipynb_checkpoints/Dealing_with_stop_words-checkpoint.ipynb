{
 "cells": [
  {
   "cell_type": "code",
   "execution_count": 1,
   "id": "5130ea84",
   "metadata": {},
   "outputs": [],
   "source": [
    "import spacy"
   ]
  },
  {
   "cell_type": "code",
   "execution_count": 2,
   "id": "2c4bbfc6",
   "metadata": {},
   "outputs": [],
   "source": [
    "nlp = spacy.load('en_core_web_sm')"
   ]
  },
  {
   "cell_type": "code",
   "execution_count": 3,
   "id": "a186ed2e",
   "metadata": {},
   "outputs": [
    {
     "name": "stdout",
     "output_type": "stream",
     "text": [
      "{'fifty', 'do', 'have', 'here', 'really', 'sometimes', 'third', 'used', 'using', 'can', 'last', 'seemed', 'about', 'why', 'first', 'itself', 'ours', 'seems', 'she', 'another', 'is', 'already', 'by', 'per', 'her', 'put', 'side', 'enough', 'such', 'meanwhile', 'take', 'eight', 'then', 'various', 'well', 'made', 'twenty', 'been', 'below', 'into', 'twelve', 'perhaps', 'just', 'whither', 'to', 'toward', 'whenever', 'his', 'would', 'sometime', 'less', 'their', 'latterly', 'he', 'are', 'others', 'so', 'towards', 'become', 'fifteen', 'whereas', 'you', 'if', 'whereby', 'down', 'besides', 'ca', 'more', 'or', 'see', 'with', 'off', 'on', 'neither', 'nine', 'same', 'thence', 'whether', 'during', 'few', 'sixty', 'indeed', 'cannot', 'somewhere', 'which', 'becoming', 'whole', 'bottom', 'nobody', 'thereby', 'together', 'everything', 'ourselves', 'too', 'a', 'least', 'someone', 'beyond', 'our', 'else', 'under', 'therefore', 'anyhow', 'me', 'for', 'up', 'hers', 'make', 'they', 'had', 'were', 'without', 'being', 'am', 'each', 'where', 'everyone', 'herein', 'none', 'of', 'unless', 'show', 'ten', 'its', 'your', 'many', 'mine', 'no', 'this', 'give', 'hereby', 'three', 'also', 'formerly', 'everywhere', 'it', 'thru', 'an', 'name', 'the', 'us', 'again', 'these', 'beforehand', 'done', 'out', 'and', 'never', 'him', 'some', 'myself', 'whoever', 'therein', 'not', 'ever', 'may', 'anything', 'after', 'any', 'but', 'as', 'at', 'other', 'due', 'amongst', 'former', 'quite', 'top', 'thereafter', 'anyone', 'although', 'own', 'elsewhere', 'all', 'thus', 'anywhere', 'mostly', 'still', 'say', 'beside', 'doing', 'along', 'above', 'has', 'i', 'among', 'however', 'next', 'over', 'part', 'go', 'seeming', 'both', 'amount', 'five', 'hereafter', 'six', 'there', 'against', 'hence', 'keep', 'thereupon', 'was', 'could', 'once', 'front', 'in', 'throughout', 'one', 'regarding', 'than', 'whom', 'always', 'except', 'onto', 'yet', 'until', 'within', 'yourself', 'move', 'nor', 'should', 'whatever', 'afterwards', 'becomes', 'only', 'wherein', 'further', 'through', 'empty', 'hundred', 'when', 'most', 'seem', 'wherever', 'does', 'though', 'how', 'between', 'did', 'we', 'whose', 'often', 'across', 'them', 'behind', 'who', 'two', 'from', 'serious', 'eleven', 'himself', 'somehow', 'that', 'almost', 'much', 'please', 'call', 'before', 'anyway', 'several', 'even', 'rather', 'while', 'otherwise', 'something', 'every', 'whereafter', 'hereupon', 'yours', 'full', 'alone', 'moreover', 'yourselves', 'be', 'noone', 'around', 'either', 'themselves', 'upon', 'get', 'because', 'four', 'nothing', 'whereupon', 'might', 'namely', 'nevertheless', 'my', 'those', 'via', 're', 'what', 'now', 'whence', 'will', 'since', 'became', 'forty', 'nowhere', 'latter', 'back', 'herself', 'very', 'must'}\n"
     ]
    }
   ],
   "source": [
    "print(nlp.Defaults.stop_words)"
   ]
  },
  {
   "cell_type": "code",
   "execution_count": 4,
   "id": "9ee2cb59",
   "metadata": {},
   "outputs": [
    {
     "data": {
      "text/plain": [
       "305"
      ]
     },
     "execution_count": 4,
     "metadata": {},
     "output_type": "execute_result"
    }
   ],
   "source": [
    "len(nlp.Defaults.stop_words)"
   ]
  },
  {
   "cell_type": "code",
   "execution_count": 6,
   "id": "461719d7",
   "metadata": {},
   "outputs": [
    {
     "data": {
      "text/plain": [
       "False"
      ]
     },
     "execution_count": 6,
     "metadata": {},
     "output_type": "execute_result"
    }
   ],
   "source": [
    "nlp.vocab['mystery'].is_stop"
   ]
  },
  {
   "cell_type": "markdown",
   "id": "4a13a06e",
   "metadata": {},
   "source": [
    "##### Add Stop word to sapcy"
   ]
  },
  {
   "cell_type": "code",
   "execution_count": 7,
   "id": "7cfe535a",
   "metadata": {},
   "outputs": [],
   "source": [
    "nlp.Defaults.stop_words.add('btw') ## this is how you add a stop word to the stop word library of you nlp model\n",
    "nlp.vocab['btw'].is_stop = True"
   ]
  },
  {
   "cell_type": "code",
   "execution_count": 11,
   "id": "2fd03345",
   "metadata": {},
   "outputs": [
    {
     "data": {
      "text/plain": [
       "306"
      ]
     },
     "execution_count": 11,
     "metadata": {},
     "output_type": "execute_result"
    }
   ],
   "source": [
    "len(nlp.Defaults.stop_words)"
   ]
  },
  {
   "cell_type": "code",
   "execution_count": 12,
   "id": "17024577",
   "metadata": {},
   "outputs": [
    {
     "data": {
      "text/plain": [
       "True"
      ]
     },
     "execution_count": 12,
     "metadata": {},
     "output_type": "execute_result"
    }
   ],
   "source": [
    "nlp.vocab['btw'].is_stop"
   ]
  },
  {
   "cell_type": "markdown",
   "id": "62d1c949",
   "metadata": {},
   "source": [
    "##### Remove stop word from spacy"
   ]
  },
  {
   "cell_type": "code",
   "execution_count": 13,
   "id": "3cc30820",
   "metadata": {},
   "outputs": [],
   "source": [
    "nlp.Defaults.stop_words.remove('btw') ## this is how you remove a stop word to the stop word library of you nlp model\n",
    "nlp.vocab['btw'].is_stop = False"
   ]
  },
  {
   "cell_type": "code",
   "execution_count": 14,
   "id": "677b8bcf",
   "metadata": {},
   "outputs": [
    {
     "data": {
      "text/plain": [
       "305"
      ]
     },
     "execution_count": 14,
     "metadata": {},
     "output_type": "execute_result"
    }
   ],
   "source": [
    "len(nlp.Defaults.stop_words)"
   ]
  },
  {
   "cell_type": "code",
   "execution_count": 15,
   "id": "ef8d0408",
   "metadata": {},
   "outputs": [
    {
     "data": {
      "text/plain": [
       "False"
      ]
     },
     "execution_count": 15,
     "metadata": {},
     "output_type": "execute_result"
    }
   ],
   "source": [
    "nlp.vocab['btw'].is_stop"
   ]
  },
  {
   "cell_type": "code",
   "execution_count": null,
   "id": "8b08954f",
   "metadata": {},
   "outputs": [],
   "source": []
  }
 ],
 "metadata": {
  "kernelspec": {
   "display_name": "Python 3 (ipykernel)",
   "language": "python",
   "name": "python3"
  },
  "language_info": {
   "codemirror_mode": {
    "name": "ipython",
    "version": 3
   },
   "file_extension": ".py",
   "mimetype": "text/x-python",
   "name": "python",
   "nbconvert_exporter": "python",
   "pygments_lexer": "ipython3",
   "version": "3.7.16"
  }
 },
 "nbformat": 4,
 "nbformat_minor": 5
}
