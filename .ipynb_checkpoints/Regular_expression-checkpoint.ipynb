{
 "cells": [
  {
   "cell_type": "code",
   "execution_count": 16,
   "id": "71d06ba4",
   "metadata": {},
   "outputs": [],
   "source": [
    "text = \"the phone number of the agent is 408-555-1234. Call soon!\""
   ]
  },
  {
   "cell_type": "code",
   "execution_count": 17,
   "id": "c9b788a6",
   "metadata": {},
   "outputs": [
    {
     "data": {
      "text/plain": [
       "True"
      ]
     },
     "execution_count": 17,
     "metadata": {},
     "output_type": "execute_result"
    }
   ],
   "source": [
    "\"408-555-1234\" in text"
   ]
  },
  {
   "cell_type": "code",
   "execution_count": 18,
   "id": "2b09c44e",
   "metadata": {},
   "outputs": [],
   "source": [
    "import re # for regular expression library"
   ]
  },
  {
   "cell_type": "code",
   "execution_count": 19,
   "id": "aabb535d",
   "metadata": {},
   "outputs": [],
   "source": [
    "pattern = \"phone\""
   ]
  },
  {
   "cell_type": "code",
   "execution_count": 20,
   "id": "c806ee2b",
   "metadata": {},
   "outputs": [
    {
     "data": {
      "text/plain": [
       "<re.Match object; span=(4, 9), match='phone'>"
      ]
     },
     "execution_count": 20,
     "metadata": {},
     "output_type": "execute_result"
    }
   ],
   "source": [
    "re.search(pattern,text) ## re.search(pattern,text_file) syntax for search in regular expression library"
   ]
  },
  {
   "cell_type": "code",
   "execution_count": 21,
   "id": "73841a83",
   "metadata": {},
   "outputs": [],
   "source": [
    "my_match = re.search(pattern,text) ## Only finds the first match and not all the matches"
   ]
  },
  {
   "cell_type": "code",
   "execution_count": 22,
   "id": "81de1385",
   "metadata": {},
   "outputs": [
    {
     "data": {
      "text/plain": [
       "(4, 9)"
      ]
     },
     "execution_count": 22,
     "metadata": {},
     "output_type": "execute_result"
    }
   ],
   "source": [
    "my_match.span()"
   ]
  },
  {
   "cell_type": "code",
   "execution_count": 23,
   "id": "71316ade",
   "metadata": {},
   "outputs": [],
   "source": [
    "text = \"my phone is a new phone\""
   ]
  },
  {
   "cell_type": "code",
   "execution_count": 25,
   "id": "e322e0bc",
   "metadata": {},
   "outputs": [],
   "source": [
    "all_matches = re.findall(pattern,text) ## finds all the matches but only gives the number of matches not the positions of the matches"
   ]
  },
  {
   "cell_type": "code",
   "execution_count": 26,
   "id": "3e8c6366",
   "metadata": {},
   "outputs": [
    {
     "data": {
      "text/plain": [
       "2"
      ]
     },
     "execution_count": 26,
     "metadata": {},
     "output_type": "execute_result"
    }
   ],
   "source": [
    "len(all_matches)"
   ]
  },
  {
   "cell_type": "code",
   "execution_count": 34,
   "id": "67a64976",
   "metadata": {},
   "outputs": [
    {
     "name": "stdout",
     "output_type": "stream",
     "text": [
      "(3, 8)\n",
      "(18, 23)\n"
     ]
    }
   ],
   "source": [
    "for match in re.finditer(pattern,text): ## gives the indexes of all the matches\n",
    "    print(match.span())"
   ]
  },
  {
   "cell_type": "markdown",
   "id": "98c07f0d",
   "metadata": {},
   "source": [
    "## If we have to find strings using patterns\n",
    "\n",
    "##### \\d  digit eg:1\n",
    "##### \\w  digit or alphabet (alphanumeric) eg:2 or a or A\n",
    "##### \\s  space eg:\" \"\n",
    "##### \\D  A non digit eg:A or a\n",
    "##### \\W  non digti non Alphabet (non-alphanumeric) eg:#\n",
    "##### \\S  non space eg:\"\"\n"
   ]
  },
  {
   "cell_type": "code",
   "execution_count": 38,
   "id": "3b86cbbe",
   "metadata": {},
   "outputs": [],
   "source": [
    "text = 'My telephone number is 777-555-1234'"
   ]
  },
  {
   "cell_type": "code",
   "execution_count": 39,
   "id": "4164d88b",
   "metadata": {},
   "outputs": [
    {
     "data": {
      "text/plain": [
       "'My telephone number is 777-555-1234'"
      ]
     },
     "execution_count": 39,
     "metadata": {},
     "output_type": "execute_result"
    }
   ],
   "source": [
    "text"
   ]
  },
  {
   "cell_type": "code",
   "execution_count": 40,
   "id": "d8b89a19",
   "metadata": {},
   "outputs": [],
   "source": [
    "pattern = r'\\d\\d\\d-\\d\\d\\d-\\d\\d\\d\\d' ## looks for 3digits-3digits-4digits as a pattern. r is used for read."
   ]
  },
  {
   "cell_type": "code",
   "execution_count": 41,
   "id": "dd52a616",
   "metadata": {},
   "outputs": [],
   "source": [
    "phone_num = re.search(pattern,text)"
   ]
  },
  {
   "cell_type": "code",
   "execution_count": 42,
   "id": "9eb02815",
   "metadata": {},
   "outputs": [
    {
     "data": {
      "text/plain": [
       "<re.Match object; span=(23, 35), match='777-555-1234'>"
      ]
     },
     "execution_count": 42,
     "metadata": {},
     "output_type": "execute_result"
    }
   ],
   "source": [
    "phone_num"
   ]
  },
  {
   "cell_type": "code",
   "execution_count": 43,
   "id": "4efb91e5",
   "metadata": {},
   "outputs": [
    {
     "data": {
      "text/plain": [
       "'777-555-1234'"
      ]
     },
     "execution_count": 43,
     "metadata": {},
     "output_type": "execute_result"
    }
   ],
   "source": [
    "phone_num.group() ## gives the match"
   ]
  },
  {
   "cell_type": "code",
   "execution_count": 44,
   "id": "e494d367",
   "metadata": {},
   "outputs": [],
   "source": [
    "## Use quantizers to tell about the frequency of the occurance"
   ]
  },
  {
   "cell_type": "code",
   "execution_count": 45,
   "id": "957ced95",
   "metadata": {},
   "outputs": [],
   "source": [
    "pattern = r'\\d{3}-\\d{3}-\\d{4}'"
   ]
  },
  {
   "cell_type": "code",
   "execution_count": 47,
   "id": "1d740a0e",
   "metadata": {},
   "outputs": [
    {
     "data": {
      "text/plain": [
       "<re.Match object; span=(23, 35), match='777-555-1234'>"
      ]
     },
     "execution_count": 47,
     "metadata": {},
     "output_type": "execute_result"
    }
   ],
   "source": [
    "phone_num = re.search(pattern,text)\n",
    "phone_num"
   ]
  },
  {
   "cell_type": "code",
   "execution_count": 48,
   "id": "b3b0dd84",
   "metadata": {},
   "outputs": [
    {
     "data": {
      "text/plain": [
       "'777-555-1234'"
      ]
     },
     "execution_count": 48,
     "metadata": {},
     "output_type": "execute_result"
    }
   ],
   "source": [
    "phone_num.group()"
   ]
  },
  {
   "cell_type": "code",
   "execution_count": 55,
   "id": "8af0d935",
   "metadata": {},
   "outputs": [],
   "source": [
    "p2 = r'(\\d{3})-(\\d{3})-(\\d{4})' ## by using the parathesis and seperating the group we can even search for one group and acces it by using the concept of array"
   ]
  },
  {
   "cell_type": "code",
   "execution_count": 60,
   "id": "96a577fc",
   "metadata": {},
   "outputs": [],
   "source": [
    "ph2 = re.search(p2,text)"
   ]
  },
  {
   "cell_type": "code",
   "execution_count": 61,
   "id": "2d5125a3",
   "metadata": {},
   "outputs": [
    {
     "data": {
      "text/plain": [
       "'777-555-1234'"
      ]
     },
     "execution_count": 61,
     "metadata": {},
     "output_type": "execute_result"
    }
   ],
   "source": [
    "ph2.group()"
   ]
  },
  {
   "cell_type": "code",
   "execution_count": 62,
   "id": "1fc9ad8e",
   "metadata": {},
   "outputs": [
    {
     "data": {
      "text/plain": [
       "'777'"
      ]
     },
     "execution_count": 62,
     "metadata": {},
     "output_type": "execute_result"
    }
   ],
   "source": [
    "ph2.group(1)"
   ]
  },
  {
   "cell_type": "code",
   "execution_count": 63,
   "id": "f65f10fc",
   "metadata": {},
   "outputs": [
    {
     "data": {
      "text/plain": [
       "'555'"
      ]
     },
     "execution_count": 63,
     "metadata": {},
     "output_type": "execute_result"
    }
   ],
   "source": [
    "ph2.group(2)"
   ]
  },
  {
   "cell_type": "code",
   "execution_count": 64,
   "id": "ecd5a8e8",
   "metadata": {},
   "outputs": [
    {
     "data": {
      "text/plain": [
       "'1234'"
      ]
     },
     "execution_count": 64,
     "metadata": {},
     "output_type": "execute_result"
    }
   ],
   "source": [
    "ph2.group(3)"
   ]
  },
  {
   "cell_type": "code",
   "execution_count": 69,
   "id": "6d092151",
   "metadata": {},
   "outputs": [
    {
     "data": {
      "text/plain": [
       "<re.Match object; span=(5, 10), match='woman'>"
      ]
     },
     "execution_count": 69,
     "metadata": {},
     "output_type": "execute_result"
    }
   ],
   "source": [
    "## type operator\n",
    "re.search(r\"man|woman\",\"This woman was here\")"
   ]
  },
  {
   "cell_type": "code",
   "execution_count": 70,
   "id": "6a1147e1",
   "metadata": {},
   "outputs": [
    {
     "data": {
      "text/plain": [
       "<re.Match object; span=(5, 8), match='man'>"
      ]
     },
     "execution_count": 70,
     "metadata": {},
     "output_type": "execute_result"
    }
   ],
   "source": [
    "re.search(r\"man|woman\",\"This man was here\")"
   ]
  },
  {
   "cell_type": "code",
   "execution_count": 72,
   "id": "1f461076",
   "metadata": {},
   "outputs": [
    {
     "data": {
      "text/plain": [
       "['cat', 'hat', 'sat']"
      ]
     },
     "execution_count": 72,
     "metadata": {},
     "output_type": "execute_result"
    }
   ],
   "source": [
    "re.findall(r\".at\",\"The cat in the hat sat\")## \".\" denotes wild card only one"
   ]
  },
  {
   "cell_type": "code",
   "execution_count": 73,
   "id": "f8c9d438",
   "metadata": {},
   "outputs": [
    {
     "data": {
      "text/plain": [
       "[' cat', ' hat', ' sat', 'plat']"
      ]
     },
     "execution_count": 73,
     "metadata": {},
     "output_type": "execute_result"
    }
   ],
   "source": [
    "re.findall(r\"..at\",\"The cat in the hat sat splat\")"
   ]
  },
  {
   "cell_type": "code",
   "execution_count": 75,
   "id": "0058b57b",
   "metadata": {},
   "outputs": [
    {
     "data": {
      "text/plain": [
       "['1']"
      ]
     },
     "execution_count": 75,
     "metadata": {},
     "output_type": "execute_result"
    }
   ],
   "source": [
    "re.findall(r\"^\\d\", \"1 is the loneliest number\") ## ^ denotes start with"
   ]
  },
  {
   "cell_type": "code",
   "execution_count": 80,
   "id": "a639b6f8",
   "metadata": {},
   "outputs": [
    {
     "data": {
      "text/plain": [
       "[' ',\n",
       " 'T',\n",
       " 'h',\n",
       " 'e',\n",
       " 'r',\n",
       " 'e',\n",
       " ' ',\n",
       " 'a',\n",
       " 'r',\n",
       " 'e',\n",
       " ' ',\n",
       " ' ',\n",
       " 'n',\n",
       " 'u',\n",
       " 'm',\n",
       " 'b',\n",
       " 'e',\n",
       " 'r',\n",
       " 's',\n",
       " ' ',\n",
       " ' ',\n",
       " 'i',\n",
       " 'n',\n",
       " 's',\n",
       " 'i',\n",
       " 'd',\n",
       " 'e',\n",
       " ' ',\n",
       " ' ',\n",
       " 't',\n",
       " 'h',\n",
       " 'i',\n",
       " 's',\n",
       " ' ',\n",
       " 's',\n",
       " 'e',\n",
       " 'n',\n",
       " 't',\n",
       " 'e',\n",
       " 'n',\n",
       " 'c',\n",
       " 'e']"
      ]
     },
     "execution_count": 80,
     "metadata": {},
     "output_type": "execute_result"
    }
   ],
   "source": [
    "re.findall(r'[^\\d]', '34 There are 3 numbers 34 inside 5 this sentence') ## [^/d] removes all of the digits"
   ]
  },
  {
   "cell_type": "code",
   "execution_count": 81,
   "id": "e893648a",
   "metadata": {},
   "outputs": [],
   "source": [
    "test_phrase = 'This is a string ! but it has punctutaion. How to remove it?'"
   ]
  },
  {
   "cell_type": "code",
   "execution_count": 85,
   "id": "625c40db",
   "metadata": {},
   "outputs": [],
   "source": [
    "my_phrase =re.findall(r'[^!.?]+',test_phrase) ## removes all of the puuctuation in the bracket [] , + sign adds up the things before and after what id removed"
   ]
  },
  {
   "cell_type": "code",
   "execution_count": 86,
   "id": "d9751ee7",
   "metadata": {},
   "outputs": [
    {
     "data": {
      "text/plain": [
       "['This is a string ', ' but it has punctutaion', ' How to remove it']"
      ]
     },
     "execution_count": 86,
     "metadata": {},
     "output_type": "execute_result"
    }
   ],
   "source": [
    "my_phrase"
   ]
  },
  {
   "cell_type": "code",
   "execution_count": 89,
   "id": "0b39cc1e",
   "metadata": {},
   "outputs": [
    {
     "data": {
      "text/plain": [
       "'This is a string   but it has punctutaion  How to remove it'"
      ]
     },
     "execution_count": 89,
     "metadata": {},
     "output_type": "execute_result"
    }
   ],
   "source": [
    "\" \".join(my_phrase) ## joins the elements of the string with \" \""
   ]
  },
  {
   "cell_type": "code",
   "execution_count": 90,
   "id": "bc9935ea",
   "metadata": {},
   "outputs": [],
   "source": [
    "text = \"Only find the hyphen-words. Were are the long-ish dash words\""
   ]
  },
  {
   "cell_type": "code",
   "execution_count": 95,
   "id": "9aa8151c",
   "metadata": {},
   "outputs": [
    {
     "data": {
      "text/plain": [
       "['hyphen-words', 'long-ish']"
      ]
     },
     "execution_count": 95,
     "metadata": {},
     "output_type": "execute_result"
    }
   ],
   "source": [
    "re.findall(f'[\\w]+-[\\w]+', text)"
   ]
  },
  {
   "cell_type": "code",
   "execution_count": null,
   "id": "e530c7fe",
   "metadata": {},
   "outputs": [],
   "source": []
  },
  {
   "cell_type": "code",
   "execution_count": null,
   "id": "35c2301e",
   "metadata": {},
   "outputs": [],
   "source": []
  },
  {
   "cell_type": "code",
   "execution_count": null,
   "id": "20484623",
   "metadata": {},
   "outputs": [],
   "source": []
  },
  {
   "cell_type": "code",
   "execution_count": null,
   "id": "5a5785fa",
   "metadata": {},
   "outputs": [],
   "source": []
  },
  {
   "cell_type": "code",
   "execution_count": null,
   "id": "e8af592b",
   "metadata": {},
   "outputs": [],
   "source": []
  }
 ],
 "metadata": {
  "kernelspec": {
   "display_name": "Python 3 (ipykernel)",
   "language": "python",
   "name": "python3"
  },
  "language_info": {
   "codemirror_mode": {
    "name": "ipython",
    "version": 3
   },
   "file_extension": ".py",
   "mimetype": "text/x-python",
   "name": "python",
   "nbconvert_exporter": "python",
   "pygments_lexer": "ipython3",
   "version": "3.7.16"
  }
 },
 "nbformat": 4,
 "nbformat_minor": 5
}
