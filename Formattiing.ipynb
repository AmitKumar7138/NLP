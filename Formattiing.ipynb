{
 "cells": [
  {
   "cell_type": "code",
   "execution_count": 1,
   "id": "2dbf787a",
   "metadata": {},
   "outputs": [],
   "source": [
    "person = 'amit'"
   ]
  },
  {
   "cell_type": "code",
   "execution_count": 2,
   "id": "c2904b94",
   "metadata": {},
   "outputs": [
    {
     "name": "stdout",
     "output_type": "stream",
     "text": [
      "my name is amit\n"
     ]
    }
   ],
   "source": [
    "print(f'my name is {person}')"
   ]
  },
  {
   "cell_type": "code",
   "execution_count": 6,
   "id": "fb23192f",
   "metadata": {},
   "outputs": [],
   "source": [
    "ml = ['0', '1', '2']"
   ]
  },
  {
   "cell_type": "code",
   "execution_count": 8,
   "id": "980cc96a",
   "metadata": {},
   "outputs": [
    {
     "name": "stdout",
     "output_type": "stream",
     "text": [
      "my name is 1\n",
      "my name is 2\n"
     ]
    }
   ],
   "source": [
    "for item in ml[1:]:\n",
    "    print(f'my name is {item}')"
   ]
  },
  {
   "cell_type": "code",
   "execution_count": 9,
   "id": "26b7db47",
   "metadata": {},
   "outputs": [],
   "source": [
    "lib = [('Author','Topic','Pages'),('Twain','Rafting in water alone ', 601),('Feyman','Physics',95),('Hamilton','Mythology',144)]"
   ]
  },
  {
   "cell_type": "code",
   "execution_count": 10,
   "id": "ca4704c3",
   "metadata": {},
   "outputs": [
    {
     "data": {
      "text/plain": [
       "[('Author', 'Topic', 'Pages'),\n",
       " ('Twain', 'Rafting in water alone ', 601),\n",
       " ('Feyman', 'Physics', 95),\n",
       " ('Hamilton', 'Mythology', 144)]"
      ]
     },
     "execution_count": 10,
     "metadata": {},
     "output_type": "execute_result"
    }
   ],
   "source": [
    "lib"
   ]
  },
  {
   "cell_type": "code",
   "execution_count": 11,
   "id": "65697c60",
   "metadata": {},
   "outputs": [
    {
     "name": "stdout",
     "output_type": "stream",
     "text": [
      "Twain Rafting in water alone  601\n",
      "Feyman Physics 95\n",
      "Hamilton Mythology 144\n"
     ]
    }
   ],
   "source": [
    "for book in lib[1:]:\n",
    "    print(f\"{book[0]} {book[1]} {book[2]}\")"
   ]
  },
  {
   "cell_type": "markdown",
   "id": "5bfb83d8",
   "metadata": {},
   "source": [
    "##### The example below gives the output space according the value input after : in{} gives balnk white space if no character is provided or blank space"
   ]
  },
  {
   "cell_type": "code",
   "execution_count": 19,
   "id": "7051f484",
   "metadata": {},
   "outputs": [
    {
     "name": "stdout",
     "output_type": "stream",
     "text": [
      "Twain      Rafting in water alone                601\n",
      "Feyman     Physics                                95\n",
      "Hamilton   Mythology                             144\n"
     ]
    }
   ],
   "source": [
    "for book in lib[1:]:\n",
    "    print(f\"{book[0]:{10}} {book[1]:{30}} {book[2]:{10}}\")"
   ]
  },
  {
   "cell_type": "code",
   "execution_count": 23,
   "id": "96058c5b",
   "metadata": {},
   "outputs": [],
   "source": [
    "from datetime import datetime ### datetime object is a specialized object in python which can store date and time"
   ]
  },
  {
   "cell_type": "code",
   "execution_count": 14,
   "id": "fbb536db",
   "metadata": {},
   "outputs": [],
   "source": [
    "today = datetime(year=2023,month=7,day=17)"
   ]
  },
  {
   "cell_type": "code",
   "execution_count": 22,
   "id": "411d763e",
   "metadata": {},
   "outputs": [
    {
     "name": "stdout",
     "output_type": "stream",
     "text": [
      "July 17,2023\n"
     ]
    }
   ],
   "source": [
    "print(f\"{today:%B %d,%Y}\")"
   ]
  },
  {
   "cell_type": "code",
   "execution_count": 33,
   "id": "b01d8ae8",
   "metadata": {},
   "outputs": [],
   "source": [
    "# way to write text file in Jupyter Notebook only works in Jupyter notebook"
   ]
  },
  {
   "cell_type": "code",
   "execution_count": 42,
   "id": "c381194f",
   "metadata": {},
   "outputs": [
    {
     "name": "stdout",
     "output_type": "stream",
     "text": [
      "Overwriting test.txt\n"
     ]
    }
   ],
   "source": [
    "%%writefile test.txt\n",
    "Hello,this is a quick test file.\n",
    "This is the second line of the file"
   ]
  },
  {
   "cell_type": "code",
   "execution_count": 43,
   "id": "e4040e9f",
   "metadata": {},
   "outputs": [],
   "source": [
    "myfile = open('test.txt')"
   ]
  },
  {
   "cell_type": "code",
   "execution_count": 45,
   "id": "d96193ca",
   "metadata": {},
   "outputs": [
    {
     "data": {
      "text/plain": [
       "''"
      ]
     },
     "execution_count": 45,
     "metadata": {},
     "output_type": "execute_result"
    }
   ],
   "source": [
    "myfile.read() ##/n denotes end of line or line break in the txt file"
   ]
  },
  {
   "cell_type": "code",
   "execution_count": 46,
   "id": "d20f2822",
   "metadata": {},
   "outputs": [
    {
     "data": {
      "text/plain": [
       "0"
      ]
     },
     "execution_count": 46,
     "metadata": {},
     "output_type": "execute_result"
    }
   ],
   "source": [
    "myfile.seek(0) ## used to move the courser to zero to tackle the problem above always used after using.read once"
   ]
  },
  {
   "cell_type": "code",
   "execution_count": 47,
   "id": "e43e6642",
   "metadata": {},
   "outputs": [
    {
     "data": {
      "text/plain": [
       "'Hello,this is a quick test file.\\nThis is the second line of the file\\n'"
      ]
     },
     "execution_count": 47,
     "metadata": {},
     "output_type": "execute_result"
    }
   ],
   "source": [
    "myfile.read() ##/n denotes end of line or line break in the txt file"
   ]
  },
  {
   "cell_type": "code",
   "execution_count": 48,
   "id": "dad289f4",
   "metadata": {},
   "outputs": [
    {
     "data": {
      "text/plain": [
       "0"
      ]
     },
     "execution_count": 48,
     "metadata": {},
     "output_type": "execute_result"
    }
   ],
   "source": [
    "myfile.seek(0)"
   ]
  },
  {
   "cell_type": "code",
   "execution_count": 49,
   "id": "02ea2b46",
   "metadata": {},
   "outputs": [],
   "source": [
    "content = myfile.read()"
   ]
  },
  {
   "cell_type": "code",
   "execution_count": 50,
   "id": "00185792",
   "metadata": {},
   "outputs": [
    {
     "name": "stdout",
     "output_type": "stream",
     "text": [
      "Hello,this is a quick test file.\n",
      "This is the second line of the file\n",
      "\n"
     ]
    }
   ],
   "source": [
    "print(content)"
   ]
  },
  {
   "cell_type": "code",
   "execution_count": 52,
   "id": "616e0899",
   "metadata": {},
   "outputs": [],
   "source": [
    "myfile.close() ##always close the file after reading it will have to do open file command again after this"
   ]
  },
  {
   "cell_type": "code",
   "execution_count": 53,
   "id": "0bc61f99",
   "metadata": {},
   "outputs": [],
   "source": [
    "myfile = open('test.txt')"
   ]
  },
  {
   "cell_type": "code",
   "execution_count": 55,
   "id": "3913aba1",
   "metadata": {},
   "outputs": [
    {
     "data": {
      "text/plain": [
       "['Hello,this is a quick test file.\\n', 'This is the second line of the file\\n']"
      ]
     },
     "execution_count": 55,
     "metadata": {},
     "output_type": "execute_result"
    }
   ],
   "source": [
    "myfile.readlines() ## reads the txt file as per each line"
   ]
  },
  {
   "cell_type": "code",
   "execution_count": 56,
   "id": "8cce967f",
   "metadata": {},
   "outputs": [
    {
     "data": {
      "text/plain": [
       "0"
      ]
     },
     "execution_count": 56,
     "metadata": {},
     "output_type": "execute_result"
    }
   ],
   "source": [
    "myfile.seek(0)"
   ]
  },
  {
   "cell_type": "code",
   "execution_count": 57,
   "id": "87dd15a5",
   "metadata": {},
   "outputs": [],
   "source": [
    "mylines = myfile.readlines()"
   ]
  },
  {
   "cell_type": "code",
   "execution_count": 58,
   "id": "8689467c",
   "metadata": {},
   "outputs": [
    {
     "data": {
      "text/plain": [
       "['Hello,this is a quick test file.\\n', 'This is the second line of the file\\n']"
      ]
     },
     "execution_count": 58,
     "metadata": {},
     "output_type": "execute_result"
    }
   ],
   "source": [
    "mylines"
   ]
  },
  {
   "cell_type": "code",
   "execution_count": 61,
   "id": "1b5ecb2d",
   "metadata": {},
   "outputs": [
    {
     "name": "stdout",
     "output_type": "stream",
     "text": [
      "Hello,this\n",
      "This\n"
     ]
    }
   ],
   "source": [
    "for line in mylines:\n",
    "    print(line.split()[0])"
   ]
  },
  {
   "cell_type": "code",
   "execution_count": 62,
   "id": "a0d7d3a3",
   "metadata": {},
   "outputs": [],
   "source": [
    "myfile.close()"
   ]
  },
  {
   "cell_type": "code",
   "execution_count": 1,
   "id": "e4693273",
   "metadata": {},
   "outputs": [],
   "source": [
    "myfile = open('test.txt','w+')## w+ gives permission to write in the file only use while trying to comletely overwrite the file"
   ]
  },
  {
   "cell_type": "code",
   "execution_count": 2,
   "id": "db7557d8",
   "metadata": {},
   "outputs": [
    {
     "data": {
      "text/plain": [
       "''"
      ]
     },
     "execution_count": 2,
     "metadata": {},
     "output_type": "execute_result"
    }
   ],
   "source": [
    "myfile.read()"
   ]
  },
  {
   "cell_type": "code",
   "execution_count": 4,
   "id": "f709eaa6",
   "metadata": {},
   "outputs": [
    {
     "data": {
      "text/plain": [
       "17"
      ]
     },
     "execution_count": 4,
     "metadata": {},
     "output_type": "execute_result"
    }
   ],
   "source": [
    "myfile.write(\"My Brand New Text\")"
   ]
  },
  {
   "cell_type": "code",
   "execution_count": 6,
   "id": "41d75d8b",
   "metadata": {},
   "outputs": [
    {
     "data": {
      "text/plain": [
       "0"
      ]
     },
     "execution_count": 6,
     "metadata": {},
     "output_type": "execute_result"
    }
   ],
   "source": [
    "myfile.seek(0)"
   ]
  },
  {
   "cell_type": "code",
   "execution_count": 7,
   "id": "982ec60b",
   "metadata": {},
   "outputs": [
    {
     "data": {
      "text/plain": [
       "' My Brand New TextMy Brand New Text'"
      ]
     },
     "execution_count": 7,
     "metadata": {},
     "output_type": "execute_result"
    }
   ],
   "source": [
    "myfile.read()"
   ]
  },
  {
   "cell_type": "code",
   "execution_count": 8,
   "id": "7e60cf3c",
   "metadata": {},
   "outputs": [],
   "source": [
    "myfile.close()"
   ]
  },
  {
   "cell_type": "code",
   "execution_count": 15,
   "id": "00af68d9",
   "metadata": {},
   "outputs": [],
   "source": [
    "myfile=open('whoops.txt','a+')## this helps append in the existing file instead of completely overwritting it"
   ]
  },
  {
   "cell_type": "code",
   "execution_count": 16,
   "id": "0c45e8ba",
   "metadata": {},
   "outputs": [
    {
     "data": {
      "text/plain": [
       "27"
      ]
     },
     "execution_count": 16,
     "metadata": {},
     "output_type": "execute_result"
    }
   ],
   "source": [
    "myfile.write('My First Line in a+ opening')"
   ]
  },
  {
   "cell_type": "code",
   "execution_count": 17,
   "id": "ad260fef",
   "metadata": {},
   "outputs": [],
   "source": [
    "myfile.close()"
   ]
  },
  {
   "cell_type": "code",
   "execution_count": 19,
   "id": "87498507",
   "metadata": {},
   "outputs": [],
   "source": [
    "newfile = open(\"whoops.txt\")"
   ]
  },
  {
   "cell_type": "code",
   "execution_count": 20,
   "id": "e06f4855",
   "metadata": {},
   "outputs": [
    {
     "data": {
      "text/plain": [
       "'My First Line in a+ opening'"
      ]
     },
     "execution_count": 20,
     "metadata": {},
     "output_type": "execute_result"
    }
   ],
   "source": [
    "newfile.read()"
   ]
  },
  {
   "cell_type": "code",
   "execution_count": 21,
   "id": "cf9cb8c8",
   "metadata": {},
   "outputs": [],
   "source": [
    "newfile.close()"
   ]
  },
  {
   "cell_type": "code",
   "execution_count": 22,
   "id": "3cb356e1",
   "metadata": {},
   "outputs": [],
   "source": [
    "myfile = open('whoops.txt', mode=\"a+\")"
   ]
  },
  {
   "cell_type": "code",
   "execution_count": 24,
   "id": "a57dd062",
   "metadata": {},
   "outputs": [
    {
     "data": {
      "text/plain": [
       "42"
      ]
     },
     "execution_count": 24,
     "metadata": {},
     "output_type": "execute_result"
    }
   ],
   "source": [
    "myfile.write('This is an added line because used a+ mode')"
   ]
  },
  {
   "cell_type": "code",
   "execution_count": 27,
   "id": "327fecfe",
   "metadata": {},
   "outputs": [
    {
     "data": {
      "text/plain": [
       "0"
      ]
     },
     "execution_count": 27,
     "metadata": {},
     "output_type": "execute_result"
    }
   ],
   "source": [
    "myfile.seek(0)"
   ]
  },
  {
   "cell_type": "code",
   "execution_count": 28,
   "id": "5c43d63f",
   "metadata": {},
   "outputs": [
    {
     "data": {
      "text/plain": [
       "'My First Line in a+ openingThis is an added line because used a+ mode'"
      ]
     },
     "execution_count": 28,
     "metadata": {},
     "output_type": "execute_result"
    }
   ],
   "source": [
    "myfile.read()"
   ]
  },
  {
   "cell_type": "code",
   "execution_count": 29,
   "id": "f88605a1",
   "metadata": {},
   "outputs": [
    {
     "data": {
      "text/plain": [
       "42"
      ]
     },
     "execution_count": 29,
     "metadata": {},
     "output_type": "execute_result"
    }
   ],
   "source": [
    "myfile.write('\\n This is a real newline, on the next line')"
   ]
  },
  {
   "cell_type": "code",
   "execution_count": 30,
   "id": "b1c4592c",
   "metadata": {},
   "outputs": [
    {
     "data": {
      "text/plain": [
       "0"
      ]
     },
     "execution_count": 30,
     "metadata": {},
     "output_type": "execute_result"
    }
   ],
   "source": [
    "myfile.seek(0)"
   ]
  },
  {
   "cell_type": "code",
   "execution_count": 31,
   "id": "99c932a1",
   "metadata": {},
   "outputs": [
    {
     "data": {
      "text/plain": [
       "'My First Line in a+ openingThis is an added line because used a+ mode\\n This is a real newline, on the next line'"
      ]
     },
     "execution_count": 31,
     "metadata": {},
     "output_type": "execute_result"
    }
   ],
   "source": [
    "myfile.read()"
   ]
  },
  {
   "cell_type": "code",
   "execution_count": 32,
   "id": "06a5005a",
   "metadata": {},
   "outputs": [],
   "source": [
    "myfile.close()"
   ]
  },
  {
   "cell_type": "code",
   "execution_count": 35,
   "id": "ca260661",
   "metadata": {},
   "outputs": [],
   "source": [
    "with open('whoops.txt','r') as mynewfile: ## This is how files should be opened in order to avoid not closing the file\n",
    "    myvariable = mynewfile.readlines()"
   ]
  },
  {
   "cell_type": "code",
   "execution_count": 36,
   "id": "4cf1f2af",
   "metadata": {},
   "outputs": [
    {
     "data": {
      "text/plain": [
       "['My First Line in a+ openingThis is an added line because used a+ mode\\n',\n",
       " ' This is a real newline, on the next line']"
      ]
     },
     "execution_count": 36,
     "metadata": {},
     "output_type": "execute_result"
    }
   ],
   "source": [
    "myvariable"
   ]
  },
  {
   "cell_type": "code",
   "execution_count": null,
   "id": "7a756605",
   "metadata": {},
   "outputs": [],
   "source": []
  },
  {
   "cell_type": "code",
   "execution_count": null,
   "id": "5d50f7fe",
   "metadata": {},
   "outputs": [],
   "source": []
  },
  {
   "cell_type": "code",
   "execution_count": null,
   "id": "a2a12d1a",
   "metadata": {},
   "outputs": [],
   "source": []
  },
  {
   "cell_type": "code",
   "execution_count": null,
   "id": "791af03c",
   "metadata": {},
   "outputs": [],
   "source": []
  }
 ],
 "metadata": {
  "kernelspec": {
   "display_name": "Python 3 (ipykernel)",
   "language": "python",
   "name": "python3"
  },
  "language_info": {
   "codemirror_mode": {
    "name": "ipython",
    "version": 3
   },
   "file_extension": ".py",
   "mimetype": "text/x-python",
   "name": "python",
   "nbconvert_exporter": "python",
   "pygments_lexer": "ipython3",
   "version": "3.7.16"
  }
 },
 "nbformat": 4,
 "nbformat_minor": 5
}
