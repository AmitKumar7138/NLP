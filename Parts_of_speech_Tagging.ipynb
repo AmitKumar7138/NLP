{
 "cells": [
  {
   "cell_type": "markdown",
   "id": "c2d8d0df",
   "metadata": {},
   "source": [
    "#### POS BASICS"
   ]
  },
  {
   "cell_type": "code",
   "execution_count": 2,
   "id": "5ec598bf",
   "metadata": {},
   "outputs": [],
   "source": [
    "import spacy"
   ]
  },
  {
   "cell_type": "code",
   "execution_count": 3,
   "id": "aabe25c3",
   "metadata": {},
   "outputs": [],
   "source": [
    "nlp = spacy.load(\"en_core_web_sm\")"
   ]
  },
  {
   "cell_type": "code",
   "execution_count": 6,
   "id": "554e1ac0",
   "metadata": {},
   "outputs": [],
   "source": [
    "doc = nlp(u\"The quick brown fox jumped over the lazy dog's back.\")"
   ]
  },
  {
   "cell_type": "code",
   "execution_count": 7,
   "id": "f7b83bf1",
   "metadata": {},
   "outputs": [
    {
     "name": "stdout",
     "output_type": "stream",
     "text": [
      "The quick brown fox jumped over the lazy dog's back.\n"
     ]
    }
   ],
   "source": [
    "print(doc.text)"
   ]
  },
  {
   "cell_type": "code",
   "execution_count": 10,
   "id": "6bfc4d87",
   "metadata": {},
   "outputs": [
    {
     "data": {
      "text/plain": [
       "'VBD'"
      ]
     },
     "execution_count": 10,
     "metadata": {},
     "output_type": "execute_result"
    }
   ],
   "source": [
    "doc[4].tag_ "
   ]
  },
  {
   "cell_type": "code",
   "execution_count": 11,
   "id": "74074c06",
   "metadata": {},
   "outputs": [
    {
     "data": {
      "text/plain": [
       "'VERB'"
      ]
     },
     "execution_count": 11,
     "metadata": {},
     "output_type": "execute_result"
    }
   ],
   "source": [
    "doc[4].pos_"
   ]
  },
  {
   "cell_type": "code",
   "execution_count": 14,
   "id": "c1b6f87c",
   "metadata": {},
   "outputs": [
    {
     "name": "stdout",
     "output_type": "stream",
     "text": [
      "The       DET       DT        determiner\n",
      "quick     ADJ       JJ        adjective\n",
      "brown     ADJ       JJ        adjective\n",
      "fox       NOUN      NN        noun, singular or mass\n",
      "jumped    VERB      VBD       verb, past tense\n",
      "over      ADP       IN        conjunction, subordinating or preposition\n",
      "the       DET       DT        determiner\n",
      "lazy      ADJ       JJ        adjective\n",
      "dog       NOUN      NN        noun, singular or mass\n",
      "'s        PART      POS       possessive ending\n",
      "back      NOUN      NN        noun, singular or mass\n",
      ".         PUNCT     .         punctuation mark, sentence closer\n"
     ]
    }
   ],
   "source": [
    "for token in doc:\n",
    "    print(f\"{token.text:{10}}{token.pos_:{10}}{token.tag_:{10}}{spacy.explain(token.tag_)}\")"
   ]
  },
  {
   "cell_type": "code",
   "execution_count": 15,
   "id": "31230984",
   "metadata": {},
   "outputs": [],
   "source": [
    "doc = nlp(u\"I read book on NLP.\")"
   ]
  },
  {
   "cell_type": "code",
   "execution_count": 16,
   "id": "b95c2912",
   "metadata": {},
   "outputs": [],
   "source": [
    "word = doc[1]"
   ]
  },
  {
   "cell_type": "code",
   "execution_count": 17,
   "id": "256889ae",
   "metadata": {},
   "outputs": [
    {
     "data": {
      "text/plain": [
       "'read'"
      ]
     },
     "execution_count": 17,
     "metadata": {},
     "output_type": "execute_result"
    }
   ],
   "source": [
    "word.text"
   ]
  },
  {
   "cell_type": "code",
   "execution_count": 18,
   "id": "f6faf31c",
   "metadata": {},
   "outputs": [
    {
     "name": "stdout",
     "output_type": "stream",
     "text": [
      "read      VERB      VBP       verb, non-3rd person singular present\n"
     ]
    }
   ],
   "source": [
    "token=word\n",
    "print(f\"{token.text:{10}}{token.pos_:{10}}{token.tag_:{10}}{spacy.explain(token.tag_)}\")"
   ]
  },
  {
   "cell_type": "code",
   "execution_count": 20,
   "id": "7919c583",
   "metadata": {},
   "outputs": [],
   "source": [
    "doc=nlp(u\"I read a book on NLP\")"
   ]
  },
  {
   "cell_type": "code",
   "execution_count": 21,
   "id": "da24a608",
   "metadata": {},
   "outputs": [
    {
     "name": "stdout",
     "output_type": "stream",
     "text": [
      "read      VERB      VBD       verb, past tense\n"
     ]
    }
   ],
   "source": [
    "word = doc[1]\n",
    "token=word\n",
    "print(f\"{token.text:{10}}{token.pos_:{10}}{token.tag_:{10}}{spacy.explain(token.tag_)}\")"
   ]
  },
  {
   "cell_type": "code",
   "execution_count": 22,
   "id": "c69c3c61",
   "metadata": {},
   "outputs": [],
   "source": [
    "doc = nlp(u\"The quick brown fox jumped over the lazy dog's back.\")"
   ]
  },
  {
   "cell_type": "code",
   "execution_count": 23,
   "id": "16854463",
   "metadata": {},
   "outputs": [],
   "source": [
    "POS_counts = doc.count_by(spacy.attrs.POS) ## gives the frequency of POS number in the doc"
   ]
  },
  {
   "cell_type": "code",
   "execution_count": 24,
   "id": "e93a71dc",
   "metadata": {
    "scrolled": true
   },
   "outputs": [
    {
     "data": {
      "text/plain": [
       "{96: 1, 83: 3, 99: 1, 84: 1, 89: 2, 91: 3, 93: 1}"
      ]
     },
     "execution_count": 24,
     "metadata": {},
     "output_type": "execute_result"
    }
   ],
   "source": [
    "POS_counts"
   ]
  },
  {
   "cell_type": "code",
   "execution_count": 29,
   "id": "62c7388e",
   "metadata": {},
   "outputs": [
    {
     "name": "stdout",
     "output_type": "stream",
     "text": [
      "PUNCT\n",
      "ADJ\n",
      "VERB\n",
      "ADP\n",
      "DET\n",
      "NOUN\n",
      "PART\n"
     ]
    }
   ],
   "source": [
    "for count in POS_counts: ## get the POS name\n",
    "    print(doc.vocab[count].text)"
   ]
  },
  {
   "cell_type": "code",
   "execution_count": 39,
   "id": "ed3a9bb1",
   "metadata": {},
   "outputs": [
    {
     "name": "stdout",
     "output_type": "stream",
     "text": [
      "83.ADJ    3\n",
      "84.ADP    1\n",
      "89.DET    2\n",
      "91.NOUN   3\n",
      "93.PART   1\n",
      "96.PUNCT  1\n",
      "99.VERB   1\n"
     ]
    }
   ],
   "source": [
    "for k,v in sorted(POS_counts.items()): ### Sorted output on the POS and its frequency\n",
    "    print(f\"{k}.{doc.vocab[k].text:{6}} {v}\")"
   ]
  },
  {
   "cell_type": "code",
   "execution_count": 40,
   "id": "e480cee4",
   "metadata": {},
   "outputs": [
    {
     "name": "stdout",
     "output_type": "stream",
     "text": [
      "                  74. POS    1\n",
      " 1292078113972184607. IN     1\n",
      "10554686591937588953. JJ     3\n",
      "12646065887601541794. .      1\n",
      "15267657372422890137. DT     2\n",
      "15308085513773655218. NN     3\n",
      "17109001835818727656. VBD    1\n"
     ]
    }
   ],
   "source": [
    "TAG_Counts = doc.count_by(spacy.attrs.TAG) ## gives the frequency of TAG number in the doc\n",
    "\n",
    "for k,v in sorted(TAG_Counts.items()): ### Sorted output on the TAGS and its frequency\n",
    "    print(f\"{k:{20}}. {doc.vocab[k].text:{6}} {v}\")"
   ]
  },
  {
   "cell_type": "code",
   "execution_count": 41,
   "id": "e3260703",
   "metadata": {},
   "outputs": [
    {
     "name": "stdout",
     "output_type": "stream",
     "text": [
      "                 399. amod   3\n",
      "                 412. det    2\n",
      "                 426. nsubj  1\n",
      "                 436. pobj   1\n",
      "                 437. poss   1\n",
      "                 440. prep   1\n",
      "                 442. punct  1\n",
      " 8110129090154140942. case   1\n",
      " 8206900633647566924. ROOT   1\n"
     ]
    }
   ],
   "source": [
    "DEB_Counts = doc.count_by(spacy.attrs.DEP)  ## gives the frequency of deb number in the doc\n",
    "for k,v in sorted(DEB_Counts.items()): ### Sorted output on the debs and its frequency\n",
    "    print(f\"{k:{20}}. {doc.vocab[k].text:{6}} {v}\")"
   ]
  }
 ],
 "metadata": {
  "kernelspec": {
   "display_name": "Python 3 (ipykernel)",
   "language": "python",
   "name": "python3"
  },
  "language_info": {
   "codemirror_mode": {
    "name": "ipython",
    "version": 3
   },
   "file_extension": ".py",
   "mimetype": "text/x-python",
   "name": "python",
   "nbconvert_exporter": "python",
   "pygments_lexer": "ipython3",
   "version": "3.7.16"
  }
 },
 "nbformat": 4,
 "nbformat_minor": 5
}
